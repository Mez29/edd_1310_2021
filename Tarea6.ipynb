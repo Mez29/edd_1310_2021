{
  "nbformat": 4,
  "nbformat_minor": 0,
  "metadata": {
    "colab": {
      "name": "Tarea6.ipynb",
      "provenance": [],
      "authorship_tag": "ABX9TyPiVwv237Umwp7RTl/z1aaz",
      "include_colab_link": true
    },
    "kernelspec": {
      "name": "python3",
      "display_name": "Python 3"
    }
  },
  "cells": [
    {
      "cell_type": "markdown",
      "metadata": {
        "id": "view-in-github",
        "colab_type": "text"
      },
      "source": [
        "<a href=\"https://colab.research.google.com/github/Mez29/edd_1310_2021/blob/master/Tarea6.ipynb\" target=\"_parent\"><img src=\"https://colab.research.google.com/assets/colab-badge.svg\" alt=\"Open In Colab\"/></a>"
      ]
    },
    {
      "cell_type": "code",
      "metadata": {
        "id": "57Osma1wJdNJ"
      },
      "source": [
        "class Nodo:\n",
        "    def __init__ (self, value, siguiente = None):\n",
        "        self.data = value #falta encapsulamiento\n",
        "        self.siguiente = siguiente\n",
        "class LinkedList:\n",
        "    def __init__ (self):\n",
        "        self.__head = None\n",
        "\n",
        "    def is_empty(self):\n",
        "        return self.__head == None\n",
        "\n",
        "    def append( self , value):\n",
        "        nuevo = Nodo(value)\n",
        "        if self.__head == None: #Self.is_empty()\n",
        "            self.__head = nuevo\n",
        "        else:\n",
        "            curr_node = self.__head\n",
        "            while curr_node.siguiente != None:\n",
        "                curr_node = curr_node.siguiente\n",
        "            curr_node.siguiente = nuevo\n",
        "    def transversal( self ):\n",
        "        curr_node = self.__head\n",
        "        while curr_node != None:\n",
        "            print(f\" {curr_node.data } -> \" , end=\"\")\n",
        "            curr_node = curr_node.siguiente\n",
        "        print(\"\")\n",
        "\n",
        "    def tail( self ):\n",
        "        curr_node = self.__head\n",
        "        while curr_node != None:\n",
        "            curr_node = curr_node.siguiente\n",
        "        return curr_node\n",
        "\n",
        "    def remove( self, value):\n",
        "        curr_node = self.__head\n",
        "        if self.__head.data== value:\n",
        "            self.__head.data = self.__head.siguiente\n",
        "        else:\n",
        "            anterior = None\n",
        "            while curr_node.data != value and curr_node.siguiente != None:\n",
        "                anterior = curr_node\n",
        "                curr_node = curr_node.siguiente\n",
        "            if curr_node.data == value:\n",
        "                anterior.siguiente = curr_node.siguiente\n",
        "            else:\n",
        "                print(\"El dato no existe en la lista\")\n",
        "    def preppend (self , value):\n",
        "        nuevo = Nodo (value , self.__head)\n",
        "        self.__head = nuevo\n",
        "\n",
        "    def get (self , posicion= None): #por defecto regresa el ultimo\n",
        "        contador = 0\n",
        "        dato = None\n",
        "        if posicion == None:\n",
        "            dato = self.tail.data\n",
        "        else:\n",
        "            curr_node = self.__head\n",
        "            while contador != posicion:\n",
        "                contador = contador + 1\n",
        "                curr_node = curr_node.siguiente\n",
        "            if contador == posicion:\n",
        "                dato = curr_node.data\n",
        "\n",
        "        return dato\n"
      ],
      "execution_count": null,
      "outputs": []
    }
  ]
}