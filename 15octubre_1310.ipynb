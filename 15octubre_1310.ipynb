{
  "nbformat": 4,
  "nbformat_minor": 0,
  "metadata": {
    "colab": {
      "name": "15octubre_1310.ipynb",
      "provenance": [],
      "authorship_tag": "ABX9TyOmA6Zuc0vgNP17xYmf2pN2",
      "include_colab_link": true
    },
    "kernelspec": {
      "name": "python3",
      "display_name": "Python 3"
    }
  },
  "cells": [
    {
      "cell_type": "markdown",
      "metadata": {
        "id": "view-in-github",
        "colab_type": "text"
      },
      "source": [
        "<a href=\"https://colab.research.google.com/github/Mez29/edd_1310_2021/blob/master/15octubre_1310.ipynb\" target=\"_parent\"><img src=\"https://colab.research.google.com/assets/colab-badge.svg\" alt=\"Open In Colab\"/></a>"
      ]
    },
    {
      "cell_type": "markdown",
      "metadata": {
        "id": "1OsPnzTYBv5K"
      },
      "source": [
        "#Modulos \n",
        "Son recursos reutilizables que contienen varias funciones que pueden ser importandas a tu código"
      ]
    },
    {
      "cell_type": "code",
      "metadata": {
        "id": "UAdbN8xkBdhN"
      },
      "source": [
        "\"\"\"\n",
        "import mi_modulo \n",
        "\n",
        "x = mi_modulo.sumar(4, 7 )\n",
        "\n",
        "print ( x )\n",
        "\n",
        "print(mi_modulo.multiplicar(3,5))\n",
        "\"\"\"\n"
      ],
      "execution_count": null,
      "outputs": []
    },
    {
      "cell_type": "code",
      "metadata": {
        "id": "xBu03wkLKZmW"
      },
      "source": [
        "from mi_modulo import sumar, dividir\n",
        "\n",
        "print(sumar(4,7))\n",
        "print(dividir(14,7))\n"
      ],
      "execution_count": null,
      "outputs": []
    },
    {
      "cell_type": "code",
      "metadata": {
        "id": "O94DY4vsLRhy"
      },
      "source": [
        "import mi_modulo as patito\n",
        "\n",
        "print(patito.sumar(4,7))\n"
      ],
      "execution_count": null,
      "outputs": []
    },
    {
      "cell_type": "code",
      "metadata": {
        "id": "YPW_w-iCN9k_",
        "outputId": "a62761d1-d87f-4249-86f9-453bf8c19662",
        "colab": {
          "base_uri": "https://localhost:8080/",
          "height": 52
        }
      },
      "source": [
        "from joke_generator import generate \n",
        "\n",
        "generate()\n"
      ],
      "execution_count": 12,
      "outputs": [
        {
          "output_type": "execute_result",
          "data": {
            "application/vnd.google.colaboratory.intrinsic+json": {
              "type": "string"
            },
            "text/plain": [
              "'I went on a date last night with a girl from the zoo. It was great. She’s a keeper.'"
            ]
          },
          "metadata": {
            "tags": []
          },
          "execution_count": 12
        }
      ]
    },
    {
      "cell_type": "markdown",
      "metadata": {
        "id": "RIb4-br2SQL7"
      },
      "source": [
        "#Archivos\n",
        "- Open (str , str)\n",
        "    1. Nombre o ruta del archivo\n",
        "    2. Dos Caracteres \n",
        "      - Modo de apertura del archivo( r, w, a)\n",
        "      - Formato (texto o binario) "
      ]
    },
    {
      "cell_type": "code",
      "metadata": {
        "id": "B4hef7lJSrDS"
      },
      "source": [
        "archivo = open(\"saludo.txt\",\"wt\")\n",
        "archivo.write(\"Hola mundo\\n Ola ke aze\")\n",
        "archivo.close()"
      ],
      "execution_count": 14,
      "outputs": []
    },
    {
      "cell_type": "code",
      "metadata": {
        "id": "v8DE0-vrUc-R"
      },
      "source": [
        "\"\"\"\n",
        "otro=open(\"./sample_data/anscombe.json\",\"rt\")\n",
        "datos = otro.read()\n",
        "print(datos)\n",
        "otro.close()\n",
        "\"\"\"\n",
        "arch= open(\"frutas.txt\",\"rt\")\n",
        "data=\"ppp\"\n",
        "while(data !=\"\"):\n",
        "  data=arch.readline()\n",
        "  print(data)\n",
        "\n",
        "list_frutas= arch.readlines()\n",
        "print(list_frutas)\n",
        "\n",
        "arch.close()\n",
        "arch= open(\"frutas.txt\",\"rt\")\n",
        "list_frutas= arch.readlines()\n",
        "print(list_frutas)\n",
        "arch.close()"
      ],
      "execution_count": null,
      "outputs": []
    }
  ]
}