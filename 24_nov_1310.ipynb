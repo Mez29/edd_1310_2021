{
  "nbformat": 4,
  "nbformat_minor": 0,
  "metadata": {
    "colab": {
      "name": "24_nov_1310.ipynb",
      "provenance": [],
      "collapsed_sections": [],
      "authorship_tag": "ABX9TyPzU/LQWtE2ptO+BQgujE77",
      "include_colab_link": true
    },
    "kernelspec": {
      "name": "python3",
      "display_name": "Python 3"
    }
  },
  "cells": [
    {
      "cell_type": "markdown",
      "metadata": {
        "id": "view-in-github",
        "colab_type": "text"
      },
      "source": [
        "<a href=\"https://colab.research.google.com/github/Mez29/edd_1310_2021/blob/master/24_nov_1310.ipynb\" target=\"_parent\"><img src=\"https://colab.research.google.com/assets/colab-badge.svg\" alt=\"Open In Colab\"/></a>"
      ]
    },
    {
      "cell_type": "code",
      "metadata": {
        "id": "oYmz1bhH3NZv"
      },
      "source": [
        "class NodoDoble :\n",
        "    def __init__(self,value,anterior = None, siguiente= None):\n",
        "        self.data = value\n",
        "        self.next = siguiente\n",
        "        self.prev = anterior\n",
        "\n",
        "class DoubleLinkedList :\n",
        "    def __init__(self):\n",
        "        self.__head = NodoDoble(None)\n",
        "        self.__tail = NodoDoble(None)\n",
        "        self.__size = 0\n",
        "\n",
        "    def get_size (self):\n",
        "        return self.__size\n",
        "\n",
        "    def is_empty(self):\n",
        "        return self.__size == 0\n",
        "\n",
        "    def append (self,value):\n",
        "\n",
        "        if self.is_empty():\n",
        "            nuevo = NodoDoble (value)\n",
        "            self.__head = nuevo\n",
        "            self.__tail = nuevo\n",
        "\n",
        "        else :\n",
        "            nuevo = NodoDoble (value ,  self.__tail ,None)\n",
        "            self.__tail.next = nuevo\n",
        "            self.__tail = nuevo\n",
        "        self.__size += 1\n",
        "\n",
        "    def transversal (self):\n",
        "        curr_node = self.__head\n",
        "        while curr_node != None:\n",
        "            print (f\"<-------{curr_node.data}------>\" , end = \"\")\n",
        "            curr_node = curr_node.next\n",
        "        print (\"\")\n",
        "\n",
        "    def reversetransversal (self):\n",
        "        curr_node = self.__tail\n",
        "        while curr_node != None:\n",
        "            print (f\"<-------{curr_node.data}------>\" , end = \"\")\n",
        "            curr_node = curr_node.prev\n",
        "        print (\"\")\n",
        "\n",
        "    def removefromhead (self,value):\n",
        "        curr_node = self.__head\n",
        "        if self.__head.data == value:\n",
        "            self.__head = self.__head.next\n",
        "            self.__head.prev = None\n",
        "            self.__size +=1\n",
        "        else:\n",
        "            while curr_node != value and curr_node != None:\n",
        "                curr_node = curr_node.next\n",
        "            if curr_node.data == value :\n",
        "                curr_node.prev.next = curr_node.next\n",
        "                curr_node.next.prev = curr_node.prev\n",
        "                self.__size -= 1"
      ],
      "execution_count": null,
      "outputs": []
    }
  ]
}