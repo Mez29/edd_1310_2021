{
  "nbformat": 4,
  "nbformat_minor": 0,
  "metadata": {
    "colab": {
      "name": "1octubre_1310.ipynb",
      "provenance": [],
      "authorship_tag": "ABX9TyPgwWgXN2NGl7CkAmiBnIoR",
      "include_colab_link": true
    },
    "kernelspec": {
      "name": "python3",
      "display_name": "Python 3"
    }
  },
  "cells": [
    {
      "cell_type": "markdown",
      "metadata": {
        "id": "view-in-github",
        "colab_type": "text"
      },
      "source": [
        "<a href=\"https://colab.research.google.com/github/Mez29/edd_1310_2021/blob/master/1octubre_1310.ipynb\" target=\"_parent\"><img src=\"https://colab.research.google.com/assets/colab-badge.svg\" alt=\"Open In Colab\"/></a>"
      ]
    },
    {
      "cell_type": "markdown",
      "metadata": {
        "id": "uF1qq8-w71hV"
      },
      "source": [
        "##Intro python \n",
        "##Variables\n",
        "Tipo dinamico \n",
        "escuela = FES Aragon \n"
      ]
    },
    {
      "cell_type": "code",
      "metadata": {
        "id": "CZIancyO7V8n",
        "outputId": "148cc1c9-c920-4283-8e01-5be0a0a64eb0",
        "colab": {
          "base_uri": "https://localhost:8080/",
          "height": 187
        }
      },
      "source": [
        "escuela ='FES Aragon'\n",
        "print(escuela)\n",
        "print('---------')\n",
        "edad = 13\n",
        "estatura=1.67\n",
        "fumador=True\n",
        "frase = \"\"\"\n",
        "Esta es \n",
        "una\n",
        "frase \n",
        "de multiples lineas \n",
        "y tambien es \n",
        "un tipo de dato\n",
        "\"\"\"\n",
        "print (frase)\n",
        "nombre='Jose'\n",
        "nombre_completo= 'Jose Sosa Cardenas'\n",
        "\n"
      ],
      "execution_count": 5,
      "outputs": [
        {
          "output_type": "stream",
          "text": [
            "FES Aragon\n",
            "---------\n",
            "\n",
            "Esta es \n",
            "una\n",
            "frase \n",
            "de multiples lineas \n",
            "y tambien es \n",
            "un tipo de dato\n",
            "\n"
          ],
          "name": "stdout"
        }
      ]
    },
    {
      "cell_type": "markdown",
      "metadata": {
        "id": "rLONccxF9zmx"
      },
      "source": [
        "#Print \n",
        "con comas \",\"\n",
        "\n",
        "con signo \"+\"\n",
        "\n",
        "con format ()\n",
        "\n",
        "con el operador  f\"\""
      ]
    },
    {
      "cell_type": "code",
      "metadata": {
        "id": "-nva7RIv-GC6",
        "outputId": "dbeb3612-17f0-46c6-baf4-2cd9ff83a250",
        "colab": {
          "base_uri": "https://localhost:8080/",
          "height": 34
        }
      },
      "source": [
        "print (nombre,edad)"
      ],
      "execution_count": 6,
      "outputs": [
        {
          "output_type": "stream",
          "text": [
            "Jose 13\n"
          ],
          "name": "stdout"
        }
      ]
    },
    {
      "cell_type": "code",
      "metadata": {
        "id": "tvywtyed_EeT",
        "outputId": "f26e6a02-7366-4c7c-9006-36786e373477",
        "colab": {
          "base_uri": "https://localhost:8080/",
          "height": 51
        }
      },
      "source": [
        "print (nombre + str(edad))\n",
        "print (nombre+nombre_completo)"
      ],
      "execution_count": 8,
      "outputs": [
        {
          "output_type": "stream",
          "text": [
            "Jose13\n",
            "JoseJose Sosa Cardenas\n"
          ],
          "name": "stdout"
        }
      ]
    },
    {
      "cell_type": "code",
      "metadata": {
        "id": "_5JPysVlANKa",
        "outputId": "6b48abc0-b581-4930-d81d-bda0b049723d",
        "colab": {
          "base_uri": "https://localhost:8080/",
          "height": 68
        }
      },
      "source": [
        "#con formato-> Nombre: Su nombre es Jose y su edad es de 13 años.\n",
        "print('Su nombre es' ,nombre, 'y su edad es de' ,edad, 'años.')\n",
        "print(\"Su nombre es {0} y su edad es de {1} años.\".format(nombre,edad))\n",
        "print(\"Su nombre es {1} y su edad es de {0} años.\".format(nombre,edad))"
      ],
      "execution_count": 13,
      "outputs": [
        {
          "output_type": "stream",
          "text": [
            "Su nombre es Jose y su edad es de 13 años.\n",
            "Su nombre es Jose y su edad es de 13 años.\n",
            "Su nombre es 13 y su edad es de Jose años.\n"
          ],
          "name": "stdout"
        }
      ]
    },
    {
      "cell_type": "code",
      "metadata": {
        "id": "zM6ikKHvBszb",
        "outputId": "92301828-9c7b-408d-9707-b2fefe4ee87b",
        "colab": {
          "base_uri": "https://localhost:8080/",
          "height": 34
        }
      },
      "source": [
        "#con Formato con el operador f\"\"\n",
        "print (f\"Su nombre es {nombre} y su edad es de {edad} años.\")"
      ],
      "execution_count": 14,
      "outputs": [
        {
          "output_type": "stream",
          "text": [
            "Su nombre es Jose y su edad es de 13 años.\n"
          ],
          "name": "stdout"
        }
      ]
    },
    {
      "cell_type": "markdown",
      "metadata": {
        "id": "YO1HdGiDCNp-"
      },
      "source": [
        "#Carácter de escape\n",
        "\\n salto \n",
        "\n",
        "\\t tabulador\n",
        "\n",
        "\\a beep\n",
        "\n",
        "\\\\\" imprimir comilla dobre\n",
        "\n",
        "\\\\' imprimir comilla simple"
      ]
    },
    {
      "cell_type": "code",
      "metadata": {
        "id": "WQ5Mc0m7DBon",
        "outputId": "5e82f46d-3568-4fca-d86b-d6dd2aa4dab4",
        "colab": {
          "base_uri": "https://localhost:8080/",
          "height": 51
        }
      },
      "source": [
        "\"\"\"\n",
        "Esta es \n",
        "una\n",
        "frase \n",
        "de multiples lineas \n",
        "y tambien es \n",
        "un tipo de dato\n",
        "\"\"\"\n",
        "print (f\"\\t Mi nombre es \\n\\t\\t {nombre}\")"
      ],
      "execution_count": 15,
      "outputs": [
        {
          "output_type": "stream",
          "text": [
            "\t Mi nombre es \n",
            "\t\t Jose\n"
          ],
          "name": "stdout"
        }
      ]
    },
    {
      "cell_type": "markdown",
      "metadata": {
        "id": "Y4wpxBwbDmwJ"
      },
      "source": [
        "#Ayuda de tipos de dato en Python \n",
        "dir()\n",
        "\n",
        "help()"
      ]
    },
    {
      "cell_type": "code",
      "metadata": {
        "id": "1FpJrAdSEKxZ"
      },
      "source": [
        "#str, int, float, bool... list, dict, set\n",
        "help(str) "
      ],
      "execution_count": null,
      "outputs": []
    },
    {
      "cell_type": "code",
      "metadata": {
        "id": "t84rctSAFLqM"
      },
      "source": [
        "print(nombre_completo.capitalize())\n",
        "print(nombre_completo.upper(), end=\"-----\")\n",
        "print(nombre_completo.title())"
      ],
      "execution_count": null,
      "outputs": []
    },
    {
      "cell_type": "markdown",
      "metadata": {
        "id": "vygockIyG_Qe"
      },
      "source": [
        "#Clase String\n",
        "Es manejada como un arreglo ( c o java) o lista en pyhton\n",
        "\n",
        "telefono=\"Huawei mate 30 pro\""
      ]
    },
    {
      "cell_type": "code",
      "metadata": {
        "id": "eXZhB6S7HDPT"
      },
      "source": [
        "telefono=\"Huawei mate 30 pro\"\n",
        "print (telefono[5])"
      ],
      "execution_count": null,
      "outputs": []
    },
    {
      "cell_type": "markdown",
      "metadata": {
        "id": "Ykj7hQTQII1j"
      },
      "source": [
        "\n",
        "#Slicing (rebanado)\n",
        "[ini:stop:incremento]\n",
        "\n",
        "nota: el stop no se incluye, termina en el valor anterior al stop"
      ]
    },
    {
      "cell_type": "code",
      "metadata": {
        "id": "jYcIPEL_IVZ8"
      },
      "source": [
        "print(telefono[7:11:1])\n",
        "#el inicio y el incremento son opcionales \n",
        "print(telefono[:11:])\n",
        "#el valor por defecto de stop es len(str)\n",
        "print(telefono[::])\n",
        "#incremento negativo\n",
        "print(telefono[::-1])\n",
        "#\n",
        "print(telefono[-3::1])"
      ],
      "execution_count": null,
      "outputs": []
    },
    {
      "cell_type": "markdown",
      "metadata": {
        "id": "vIjVt1FSNMm9"
      },
      "source": [
        "#Métodos de String (str)\n",
        "Existen metodos muy útiles en esta clase "
      ]
    },
    {
      "cell_type": "code",
      "metadata": {
        "id": "pnjAndVwNXYI",
        "outputId": "61dfa86f-0633-494a-83f7-78eff3b3edd6",
        "colab": {
          "base_uri": "https://localhost:8080/",
          "height": 357
        }
      },
      "source": [
        "facultad=\"    facultad de estudios superiores aragon      \\n\"\n",
        "print(facultad)\n",
        "print(facultad.count(\"u\")) #cuenta el numero de elemntos en la cadena \n",
        "print(facultad.find(\"s\")) #encuentra la posicion en la que se encuentre la variable, pero solo la primera vez\n",
        "print(facultad.strip())#remueve los espacios en blanco solo al inicio y al final\n",
        "tamaño=len(facultad)\n",
        "print(len(facultad))\n",
        "print(F\"tamaño de la cadena es {tamaño} caracteres\")\n",
        "print(facultad)\n",
        "print(facultad.strip().split(\" \"))\n",
        "\n",
        "print(\"---------------\")\n",
        "\n",
        "#copiar cadenas\n",
        "otra_cadena = facultad\n",
        "print(otra_cadena)\n",
        "facultad=\"FES Aragón\"\n",
        "print(facultad)\n",
        "print(otra_cadena)\n",
        "#copiar listas \n",
        "colores =[\"rojo\",\"verde\"]\n",
        "otra=colores\n",
        "print(colores)\n",
        "print (otra)\n",
        "otra.append(\"rosa\")\n",
        "print(colores)\n",
        "print(otra)"
      ],
      "execution_count": 56,
      "outputs": [
        {
          "output_type": "stream",
          "text": [
            "    facultad de estudios superiores aragon      \n",
            "\n",
            "3\n",
            "17\n",
            "facultad de estudios superiores aragon\n",
            "49\n",
            "tamaño de la cadena es 49 caracteres\n",
            "    facultad de estudios superiores aragon      \n",
            "\n",
            "['facultad', 'de', 'estudios', 'superiores', 'aragon']\n",
            "---------------\n",
            "    facultad de estudios superiores aragon      \n",
            "\n",
            "FES Aragón\n",
            "    facultad de estudios superiores aragon      \n",
            "\n",
            "['rojo', 'verde']\n",
            "['rojo', 'verde']\n",
            "['rojo', 'verde', 'rosa']\n",
            "['rojo', 'verde', 'rosa']\n"
          ],
          "name": "stdout"
        }
      ]
    }
  ]
}