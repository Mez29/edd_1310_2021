{
  "nbformat": 4,
  "nbformat_minor": 0,
  "metadata": {
    "colab": {
      "name": "27octubre_1310.ipynb",
      "provenance": [],
      "authorship_tag": "ABX9TyNnUlAIueGWVuaeVBHCkVpl",
      "include_colab_link": true
    },
    "kernelspec": {
      "name": "python3",
      "display_name": "Python 3"
    }
  },
  "cells": [
    {
      "cell_type": "markdown",
      "metadata": {
        "id": "view-in-github",
        "colab_type": "text"
      },
      "source": [
        "<a href=\"https://colab.research.google.com/github/Mez29/edd_1310_2021/blob/master/27octubre_1310.ipynb\" target=\"_parent\"><img src=\"https://colab.research.google.com/assets/colab-badge.svg\" alt=\"Open In Colab\"/></a>"
      ]
    },
    {
      "cell_type": "code",
      "metadata": {
        "id": "CL5cY5ibB7m7",
        "outputId": "33a228cb-e86c-42b1-9662-7b22404606d7",
        "colab": {
          "base_uri": "https://localhost:8080/",
          "height": 248
        }
      },
      "source": [
        "class Computadora:\n",
        "    def __init__( self , m , p):\n",
        "        self.__marca = m\n",
        "        self.__procesador = p\n",
        "\n",
        "    def to_string( self ):\n",
        "        return \"MArca:\"+self.__marca+\" Procesador:\"+self.__procesador\n",
        "\n",
        "        def set_marca( self, m):\n",
        "          self._marca = m\n",
        "\n",
        "        def get_marca( self ):\n",
        "          return self.__marca \n",
        "\n",
        "        def set_procesador (self, p ):\n",
        "          self._procesador =p\n",
        "\n",
        "        def get_procesador ( self ):\n",
        "          return self._procesador\n",
        "\n",
        "mi_pc = Computadora(\"Toshiba\",\"Intel i7\")\n",
        "print(mi_pc.to_string())\n",
        "mi_pc.__marca=\"HP \" #intentando cambiar el valor privado\n",
        "mi_pc.set_marca(\"HP\")\n",
        "print(mi_pc.to_string())\n",
        "print(mi_pc.get_procesador())"
      ],
      "execution_count": 17,
      "outputs": [
        {
          "output_type": "stream",
          "text": [
            "MArca:Toshiba Procesador:Intel i7\n"
          ],
          "name": "stdout"
        },
        {
          "output_type": "error",
          "ename": "AttributeError",
          "evalue": "ignored",
          "traceback": [
            "\u001b[0;31m---------------------------------------------------------------------------\u001b[0m",
            "\u001b[0;31mAttributeError\u001b[0m                            Traceback (most recent call last)",
            "\u001b[0;32m<ipython-input-17-edcc05b9093b>\u001b[0m in \u001b[0;36m<module>\u001b[0;34m()\u001b[0m\n\u001b[1;32m     22\u001b[0m \u001b[0mprint\u001b[0m\u001b[0;34m(\u001b[0m\u001b[0mmi_pc\u001b[0m\u001b[0;34m.\u001b[0m\u001b[0mto_string\u001b[0m\u001b[0;34m(\u001b[0m\u001b[0;34m)\u001b[0m\u001b[0;34m)\u001b[0m\u001b[0;34m\u001b[0m\u001b[0;34m\u001b[0m\u001b[0m\n\u001b[1;32m     23\u001b[0m \u001b[0mmi_pc\u001b[0m\u001b[0;34m.\u001b[0m\u001b[0m__marca\u001b[0m\u001b[0;34m=\u001b[0m\u001b[0;34m\"HP \"\u001b[0m \u001b[0;31m#intentando cambiar el valor privado\u001b[0m\u001b[0;34m\u001b[0m\u001b[0;34m\u001b[0m\u001b[0m\n\u001b[0;32m---> 24\u001b[0;31m \u001b[0mmi_pc\u001b[0m\u001b[0;34m.\u001b[0m\u001b[0mset_marca\u001b[0m\u001b[0;34m(\u001b[0m\u001b[0;34m\"HP\"\u001b[0m\u001b[0;34m)\u001b[0m\u001b[0;34m\u001b[0m\u001b[0;34m\u001b[0m\u001b[0m\n\u001b[0m\u001b[1;32m     25\u001b[0m \u001b[0mprint\u001b[0m\u001b[0;34m(\u001b[0m\u001b[0mmi_pc\u001b[0m\u001b[0;34m.\u001b[0m\u001b[0mto_string\u001b[0m\u001b[0;34m(\u001b[0m\u001b[0;34m)\u001b[0m\u001b[0;34m)\u001b[0m\u001b[0;34m\u001b[0m\u001b[0;34m\u001b[0m\u001b[0m\n\u001b[1;32m     26\u001b[0m \u001b[0mprint\u001b[0m\u001b[0;34m(\u001b[0m\u001b[0mmi_pc\u001b[0m\u001b[0;34m.\u001b[0m\u001b[0mget_procesador\u001b[0m\u001b[0;34m(\u001b[0m\u001b[0;34m)\u001b[0m\u001b[0;34m)\u001b[0m\u001b[0;34m\u001b[0m\u001b[0;34m\u001b[0m\u001b[0m\n",
            "\u001b[0;31mAttributeError\u001b[0m: 'Computadora' object has no attribute 'set_marca'"
          ]
        }
      ]
    },
    {
      "cell_type": "markdown",
      "metadata": {
        "id": "hskxCSpdEH0I"
      },
      "source": [
        "#Encapsulamiento python 3 \n",
        "##Tradicional tipo java\n",
        "    void setAtributo ( val )\n",
        "    tipo getAtributo ( )\n",
        "##Estilo Python \n",
        "UTILIZANDO DECORADORES \n",
        "-  @property\n",
        "- @atributo.setter"
      ]
    },
    {
      "cell_type": "code",
      "metadata": {
        "id": "loSLgQWlH1vL",
        "outputId": "7f3b5022-0fa0-4650-af10-39ea245c1480",
        "colab": {
          "base_uri": "https://localhost:8080/",
          "height": 102
        }
      },
      "source": [
        "class Computadora:\n",
        "  def __init__(self , m, p ):\n",
        "    self.marca = m      #se manda a llamar el decorador @property\n",
        "    self.procesador = p  #idem\n",
        "\n",
        "  @property #se declara como atriburo privado y funciona como método get\n",
        "  def marca( self ):\n",
        "    return self.__marca \n",
        "\n",
        "  @marca.setter\n",
        "  def marca( self, m ):\n",
        "    print(\"En el setter de MARCA\")\n",
        "    self.__marca = m\n",
        "\n",
        "  @property\n",
        "  def procesador (self):\n",
        "    return self.__procesador\n",
        "\n",
        "  @procesador.setter\n",
        "  def procesador( self, p ):\n",
        "    print(\"En el metodo set de procesador \")\n",
        "    self.__procesador = p\n",
        "\n",
        "  def to_string (self):\n",
        "    return \"marca:\" + self.marca +  \"procesador: \" + self.procesador\n",
        "\n",
        "\n",
        "mi_pc2 = Computadora (\"Mac Book Pro \", \"Intel i7\")\n",
        "print(mi_pc2.to_string())\n",
        "mi_pc2.marca= \"Dell \"\n",
        "print(mi_pc2.to_string())"
      ],
      "execution_count": 14,
      "outputs": [
        {
          "output_type": "stream",
          "text": [
            "En el setter de MARCA\n",
            "En el metodo set de procesador \n",
            "marca:Mac Book Pro procesador: Intel i7\n",
            "En el setter de MARCA\n",
            "marca:Dell procesador: Intel i7\n"
          ],
          "name": "stdout"
        }
      ]
    },
    {
      "cell_type": "code",
      "metadata": {
        "id": "zR9eSXG3QnLN",
        "outputId": "f0e2d83d-06ef-4fc0-a624-2bfde10b4c56",
        "colab": {
          "base_uri": "https://localhost:8080/",
          "height": 85
        }
      },
      "source": [
        "#herencia, pasando la clase base a la declaración \n",
        "class ServidorEmpresarial( Computadora ):\n",
        "  def __init__(self ):\n",
        "    print(\"Hola servidor \")\n",
        "\n",
        "server = ServidorEmpresarial()\n",
        "server.marca = \"Sun Micro Systems \"\n",
        "server.procesador = \"intel i7\"\n",
        "print(server.to_string())"
      ],
      "execution_count": 16,
      "outputs": [
        {
          "output_type": "stream",
          "text": [
            "Hola servidor \n",
            "En el setter de MARCA\n",
            "En el metodo set de procesador \n",
            "marca:Sun Micro Systems procesador: intel i7\n"
          ],
          "name": "stdout"
        }
      ]
    }
  ]
}