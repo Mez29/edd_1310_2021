{
  "nbformat": 4,
  "nbformat_minor": 0,
  "metadata": {
    "colab": {
      "name": "20octubre_1310.ipynb",
      "provenance": [],
      "collapsed_sections": [],
      "authorship_tag": "ABX9TyPigor0oeUTqbXLm6GyWAmh",
      "include_colab_link": true
    },
    "kernelspec": {
      "name": "python3",
      "display_name": "Python 3"
    }
  },
  "cells": [
    {
      "cell_type": "markdown",
      "metadata": {
        "id": "view-in-github",
        "colab_type": "text"
      },
      "source": [
        "<a href=\"https://colab.research.google.com/github/Mez29/edd_1310_2021/blob/master/20octubre_1310.ipynb\" target=\"_parent\"><img src=\"https://colab.research.google.com/assets/colab-badge.svg\" alt=\"Open In Colab\"/></a>"
      ]
    },
    {
      "cell_type": "code",
      "metadata": {
        "id": "mQRwiZksy3rV"
      },
      "source": [
        "archivo = open(\"numeros.txt\", \"rt\")\n",
        "for linea in archivo.readlines():\n",
        "  for trunc in linea.split(\",\"):\n",
        "    print(int(trunc.strip()))"
      ],
      "execution_count": null,
      "outputs": []
    },
    {
      "cell_type": "markdown",
      "metadata": {
        "id": "2YTX9A3d2oIm"
      },
      "source": [
        "#Sintaxis del for en python\n",
        "dos versiones de for\n",
        "1. range\n",
        "2. in iterator\n"
      ]
    },
    {
      "cell_type": "code",
      "metadata": {
        "id": "MCFs-eAI2zrc",
        "outputId": "db6d463a-6aa6-4735-9811-e4c1de3275a2",
        "colab": {
          "base_uri": "https://localhost:8080/",
          "height": 238
        }
      },
      "source": [
        "r=(range(0,10,2))\n",
        "for x in r:\n",
        "  print(x)\n",
        "\n",
        "colores=[\"rojo\", \"rosa\", \"azul\", \"fucsia\"]\n",
        "\n",
        "for indice in range(0,4,1): #for(indice =0; indice <4; indice++)\n",
        "  print (colores[indice])\n",
        " \n",
        " #for sobre un iterador\n",
        "\n",
        "for col in colores:\n",
        "   print(col)\n"
      ],
      "execution_count": 15,
      "outputs": [
        {
          "output_type": "stream",
          "text": [
            "0\n",
            "2\n",
            "4\n",
            "6\n",
            "8\n",
            "rojo\n",
            "rosa\n",
            "azul\n",
            "fucsia\n",
            "rojo\n",
            "rosa\n",
            "azul\n",
            "fucsia\n"
          ],
          "name": "stdout"
        }
      ]
    },
    {
      "cell_type": "markdown",
      "metadata": {
        "id": "xYiR2IAw783u"
      },
      "source": [
        "#Generadores\n",
        "\n",
        "[valor for x in range() ]"
      ]
    },
    {
      "cell_type": "code",
      "metadata": {
        "id": "tBYwC2xj768A",
        "outputId": "4867b631-4b4c-4476-b296-6c38b3475d1d",
        "colab": {
          "base_uri": "https://localhost:8080/",
          "height": 34
        }
      },
      "source": [
        "lista= [ [0, 0, 0] for x in range(3)]\n",
        "print(lista)"
      ],
      "execution_count": 18,
      "outputs": [
        {
          "output_type": "stream",
          "text": [
            "[[0, 0, 0], [0, 0, 0], [0, 0, 0]]\n"
          ],
          "name": "stdout"
        }
      ]
    },
    {
      "cell_type": "code",
      "metadata": {
        "id": "AMlBShhp-NnV",
        "outputId": "4fd4dc77-d8c3-400d-b8f5-21580717b521",
        "colab": {
          "base_uri": "https://localhost:8080/",
          "height": 34
        }
      },
      "source": [
        "ren=3\n",
        "col=3\n",
        "\n",
        "lista = [[0 for x in range(col)]for x in range(ren)]\n",
        "print(lista)"
      ],
      "execution_count": 22,
      "outputs": [
        {
          "output_type": "stream",
          "text": [
            "[[0, 0, 0], [0, 0, 0], [0, 0, 0]]\n"
          ],
          "name": "stdout"
        }
      ]
    },
    {
      "cell_type": "markdown",
      "metadata": {
        "id": "mFecC7qu_FBx"
      },
      "source": [
        "#POO en python\n",
        "- clase \n",
        "- creacion de objetos \n",
        "- constructor \n",
        "- encapsulamiento \n",
        "- metodos \n",
        "- atributos \n",
        "- herencia \n"
      ]
    },
    {
      "cell_type": "code",
      "metadata": {
        "id": "cy-g9UaE_apl",
        "outputId": "a947ed04-2ed6-4107-c576-a119d56edc6f",
        "colab": {
          "base_uri": "https://localhost:8080/",
          "height": 34
        }
      },
      "source": [
        "class Computadora:\n",
        "  def __init__( self, m, p): #es un leguaje que simula POO no maneja referencias es un ajuste para simular el comportamieto \n",
        "    self.__marca= m\n",
        "    self.__procesador=p\n",
        "  \n",
        "  def to_string( self ):\n",
        "    return \"Marca: \"+ self.__marca+ \" Procesador: \" +self.__procesador\n",
        "\n",
        "mi_pc = Computadora(\"Toshiba\", \"intel i7\")\n",
        "mi_pc__marca= \"HP\"\n",
        "print(mi_pc.to_string())\n"
      ],
      "execution_count": 32,
      "outputs": [
        {
          "output_type": "stream",
          "text": [
            "Marca: Toshiba Procesador: intel i7\n"
          ],
          "name": "stdout"
        }
      ]
    }
  ]
}