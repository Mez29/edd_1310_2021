{
  "nbformat": 4,
  "nbformat_minor": 0,
  "metadata": {
    "colab": {
      "name": "13octubre_1310.ipynb",
      "provenance": [],
      "authorship_tag": "ABX9TyNHpXV40gv7tt8fe005hHDl",
      "include_colab_link": true
    },
    "kernelspec": {
      "name": "python3",
      "display_name": "Python 3"
    }
  },
  "cells": [
    {
      "cell_type": "markdown",
      "metadata": {
        "id": "view-in-github",
        "colab_type": "text"
      },
      "source": [
        "<a href=\"https://colab.research.google.com/github/Mez29/edd_1310_2021/blob/master/13octubre_1310.ipynb\" target=\"_parent\"><img src=\"https://colab.research.google.com/assets/colab-badge.svg\" alt=\"Open In Colab\"/></a>"
      ]
    },
    {
      "cell_type": "code",
      "metadata": {
        "id": "f5JpsjyytOk1"
      },
      "source": [
        "alumno = { \n",
        "          \"num_cta\" : 303030303 ,\n",
        "          \"carrera\" : \"ICO\",\n",
        "          \"promedio\" : 9.8,\n",
        "          \"materias\" :[\"EDD\",\"CyP\",\"Calidad\",\"Emprendimiento\"],\n",
        "          \"direccion\" : { \n",
        "                            \"calle\":\"rancho seco\",\n",
        "                            \"numero\" : 23 ,\n",
        "                            \"delegacion\" : \"Neza\",\n",
        "                            \"estado\" : {\n",
        "                                        \"id\" : 15 ,\n",
        "                                        \"nombre\" : \"Estado de Máxico\" ,\n",
        "                                        \"nombre_corto\" : \"EdoMex\"\n",
        "                                        } ,\n",
        "                            \"CP\":57170\n",
        "\n",
        "                        } \n",
        "          }\n",
        "print(alumno)  \n",
        "alumno[\"carrera\"]=\"Ingeniería en computación\"   \n",
        "print(alumno)  \n",
        "alumno[\"nombre_completo\"]={\"primer\":\"Juan\", \n",
        "                           \"segundo\":\"Pedro\",\n",
        "                           \"materno\": \"Perez\",\n",
        "                           \"paterno\":\"Gomez\"\n",
        "                           }\n",
        "alumno[\"semestre\"]=3\n",
        "print(alumno)\n",
        "print(f\"{alumno['nombre_completo']['primer']}{alumno['nombre_completo']['segundo']}\")\n"
      ],
      "execution_count": null,
      "outputs": []
    },
    {
      "cell_type": "code",
      "metadata": {
        "id": "QyuoMNpNx8LV"
      },
      "source": [
        "#Key() , values() e items()\n",
        "\n",
        "llaves= alumno.keys()\n",
        "print(llaves)\n",
        "for llave in llaves:\n",
        "  print(llave.upper())\n",
        "\n",
        "valores = alumno.values()\n",
        "for val in valores:\n",
        "  print(val)\n",
        "\n",
        "pares = alumno.items()\n",
        "print(pares)\n",
        "for elem in pares:\n",
        "  print(f\"el campo{ elem [0] } tiene el valor{ elem [1] }\")"
      ],
      "execution_count": null,
      "outputs": []
    },
    {
      "cell_type": "code",
      "metadata": {
        "id": "NwHjvj-708zJ"
      },
      "source": [
        "#Concatenar diccionarios\n",
        "computadora={\"procesador\": \"Intel i7\", \"ram\": \"Kingston 128gb\" }\n",
        "otros={\"monitor\": \"LG 49\\\"\",\"hd\": \"Toshiba 1TB\"}\n",
        "computadora.update(otros) \n",
        "print(computadora) \n"
      ],
      "execution_count": null,
      "outputs": []
    },
    {
      "cell_type": "markdown",
      "metadata": {
        "id": "rcT4bepl2k4D"
      },
      "source": [
        "#Funciones\n",
        "- Son unidades de codigo reutilizable\n",
        "- Es un mecanismo de organizacion de codigo\n",
        "- Toma de 0 a n parametros de entrada \n",
        "- Tiene una sola salida (return) de cualquier tipo de dato \n",
        "- Solo puedes hacer dos cosas:\n",
        "  - Definirla\n",
        "  - Llamarla"
      ]
    },
    {
      "cell_type": "code",
      "metadata": {
        "id": "SdDfRG6y3muT"
      },
      "source": [
        "def sumar(x , y):\n",
        "  resultado = x + y\n",
        "  return resultado \n",
        "\n",
        "def saludar( nombre ):\n",
        "  print(f\"Hola {nombre}, ¿Cómo estas?\")\n",
        "  return None #Una funcion siempre regresa algo\n",
        "\n",
        "#Procesar None\n",
        "\n",
        "def multiplicar (valor , veces):\n",
        "  if valor !=None:\n",
        "    c = valor * veces\n",
        "  else: \n",
        "    c= \"Operacion no Valida\"\n",
        "  return c\n",
        "def operacion( a, b, c):\n",
        "  res= a + (b/c)\n",
        "  return res\n",
        "\n",
        "print(sumar(10, 5))\n",
        "print(sumar(2, 6))\n",
        "c= sumar (3,7)\n",
        "print(c)\n",
        "saludar(\"Jesus\")\n",
        "print(saludar(\"Jose\"))\n",
        "print(multiplicar(5,6))\n",
        "print(multiplicar(None,6))\n",
        "\n",
        "print(operacion (2,9,3))\n",
        "print(operacion (2,3,9))\n",
        "\n",
        "print(operacion (a=2,c=3,b=9))"
      ],
      "execution_count": null,
      "outputs": []
    },
    {
      "cell_type": "code",
      "metadata": {
        "id": "S_0gn20d-ikO",
        "outputId": "5f952b23-e123-47bb-fdac-7e57c9b79bc0",
        "colab": {
          "base_uri": "https://localhost:8080/",
          "height": 258
        }
      },
      "source": [
        "#Valores por defecto\n",
        "def comanda( primer, fuerte, postre=\"Galleta de animalito\" ):\n",
        "  print(f\"De entrada pidio: {primer}\")\n",
        "  print(f\"De plato fuerte: {fuerte}\")\n",
        "  print(f\"Postre:{ postre }\")\n",
        "\n",
        "#Argumentos posicionales con tuplas*\n",
        "def comanda_2( *opciones):\n",
        "  print(opciones)\n",
        "  print(f\"De entrada pidio: {opciones[0]}\")\n",
        "  print(f\"De plato fuerte: {opciones[1]}\")\n",
        "  print(f\"Postre:{ opciones[2] }\")\n",
        "  print (\"\\n indicaciones extra:\")\n",
        "  for ind in opciones[3::]:\n",
        "    print(f\"\\t {ind}\")\n",
        "\n",
        "comanda(\"sopa aguada\", \"Tortas de papa\", \"Gelatina de limon\")\n",
        "comanda(\"sopa aguada\", \"Tortas de papa\")\n",
        "comanda_2(\"sopa aguada\", \"Tortas de papa\", \"Gelatina de limon\", \"las tortas bien doradas\" \" Traer dos limones\")"
      ],
      "execution_count": 42,
      "outputs": [
        {
          "output_type": "stream",
          "text": [
            "De entrada pidio: sopa aguada\n",
            "De plato fuerte: Tortas de papa\n",
            "Postre:Gelatina de limon\n",
            "De entrada pidio: sopa aguada\n",
            "De plato fuerte: Tortas de papa\n",
            "Postre:Galleta de animalito\n",
            "('sopa aguada', 'Tortas de papa', 'Gelatina de limon', 'las tortas bien doradas Traer dos limones')\n",
            "De entrada pidio: sopa aguada\n",
            "De plato fuerte: Tortas de papa\n",
            "Postre:Gelatina de limon\n",
            "\n",
            " indicaciones extra:\n",
            "\t las tortas bien doradas Traer dos limones\n"
          ],
          "name": "stdout"
        }
      ]
    },
    {
      "cell_type": "code",
      "metadata": {
        "id": "HXOPNkgsB55K"
      },
      "source": [
        "#argumentos posicionales con diccionarios **\n",
        "def comanda_3( **opciones ):\n",
        "  print(opciones)\n",
        "  for op in opciones.items():\n",
        "    print(f\"{op[0]} -> {op[1]}\")\n",
        "\n",
        "  comanda_3(primer= \"sopa aguada\", fuerte = \"Tortas de papa\", postre = \"Gelatina de limon\", \n",
        "            extra1= \"las tortas bien doradas\", extra2= \" Traer dos limones\", extra3= \"Agua con hielos\")"
      ],
      "execution_count": 48,
      "outputs": []
    }
  ]
}