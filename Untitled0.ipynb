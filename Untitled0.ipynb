{
  "nbformat": 4,
  "nbformat_minor": 0,
  "metadata": {
    "colab": {
      "name": "Untitled0.ipynb",
      "provenance": [],
      "authorship_tag": "ABX9TyO97aXboTTfM3K3eHKzDNPe",
      "include_colab_link": true
    },
    "kernelspec": {
      "name": "python3",
      "display_name": "Python 3"
    }
  },
  "cells": [
    {
      "cell_type": "markdown",
      "metadata": {
        "id": "view-in-github",
        "colab_type": "text"
      },
      "source": [
        "<a href=\"https://colab.research.google.com/github/Mez29/edd_1310_2021/blob/master/Untitled0.ipynb\" target=\"_parent\"><img src=\"https://colab.research.google.com/assets/colab-badge.svg\" alt=\"Open In Colab\"/></a>"
      ]
    },
    {
      "cell_type": "code",
      "metadata": {
        "id": "dSdvGa7s2GpR",
        "outputId": "9e9d0062-44bd-401a-b914-4e1dd3ae5ab8",
        "colab": {
          "base_uri": "https://localhost:8080/",
          "height": 136
        }
      },
      "source": [
        "class Persona : \n",
        "    def __init__(self,n,e,es):\n",
        "        self.__Nombre = n\n",
        "        self.__Edad = e\n",
        "        self.__Estatura = es\n",
        "    def Dormir (self):\n",
        "        print (\"Durmiendo \")\n",
        "        print (\"No molesten \")\n",
        "    def Comer (self):\n",
        "        print (\"Echandome un taquito\")\n",
        "    def to_string (self):\n",
        "        return \"Hola me llamo \" + self.__Nombre + \" Tengo : \" + self.__Edad + \" Años\" + \" Y mido : \" + self.__Estatura + \" metros \"\n",
        "class Celular :\n",
        "    def __init__(self,marca,modelo,espmemoria):\n",
        "        self.__Marca = marca\n",
        "        self.__Modelo =modelo\n",
        "        self.__EspacioMemoria = espmemoria\n",
        "    def Llamar (self):\n",
        "        print (\"PIMMM .....PIMMM....PIMM\")\n",
        "    def PonerAlarma(self):\n",
        "        print (\"Alarma programada :)\")\n",
        "    def to_string (self):\n",
        "        return \"Marca : \" + self.__Marca + \" Modelo : \" + self.__Modelo + \" Espacio Libre en Memoria : \" + self.__EspacioMemoria\n",
        "\n",
        "Mez = Persona (\"Meztli\",\"20\",\"1.60\")\n",
        "print (Mez.to_string())\n",
        "MiFon = Celular(\"Apple\",\"Iphone 8\",\"24\")\n",
        "print (MiFon.to_string())\n",
        "\n",
        "Mez.Comer()\n",
        "Mez.Dormir()\n",
        "\n",
        "MiFon.Llamar()\n",
        "MiFon.PonerAlarma()"
      ],
      "execution_count": 1,
      "outputs": [
        {
          "output_type": "stream",
          "text": [
            "Hola me llamo Meztli Tengo : 20 Anios Y mido : 1.50 metros \n",
            "Marca : Apple Modelo : Iphone 8 Espacio Libre en Memoria : 24\n",
            "Echandome un taquito\n",
            "Durmiendo \n",
            "No molesten \n",
            "PIMMM .....PIMMM....PIMM\n",
            "Alarma programada :)\n"
          ],
          "name": "stdout"
        }
      ]
    }
  ]
}